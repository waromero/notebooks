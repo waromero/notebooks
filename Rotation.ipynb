{
 "cells": [
  {
   "cell_type": "markdown",
   "metadata": {},
   "source": [
    "Diffusion Gradient Vector Rotation\n",
    "==================\n",
    "\n",
    "William A. Romero R."
   ]
  },
  {
   "cell_type": "code",
   "execution_count": 4,
   "metadata": {
    "collapsed": true
   },
   "outputs": [],
   "source": [
    "import numpy as np"
   ]
  },
  {
   "cell_type": "markdown",
   "metadata": {},
   "source": [
    "## Image Data"
   ]
  },
  {
   "cell_type": "code",
   "execution_count": 17,
   "metadata": {
    "collapsed": false
   },
   "outputs": [],
   "source": [
    "#_______PIXEL_SPACING_(0028,0030)_______\n",
    "pixelSpacing_cols = 1.40625\n",
    "pixelSpacing_row  = 1.40625\n",
    "\n",
    "#_______SPACING_SLICES_(0018,0088)_______\n",
    "spacingSlices = 1.0\n",
    "\n",
    "#_______IMAGE_ORIENTATION_PATIENT_(0020,0037)_______\n",
    "row_x = 0.41218110932147\n",
    "row_y = 0.85259222512755\n",
    "row_z = -0.321237032066\n",
    "col_x = -0.6147261665113\n",
    "col_y = 6.829280243e-006\n",
    "col_z = -0.7887406038488"
   ]
  },
  {
   "cell_type": "markdown",
   "metadata": {},
   "source": [
    "## Diffusion Gradient Vectors (0019,100e)"
   ]
  },
  {
   "cell_type": "code",
   "execution_count": 12,
   "metadata": {
    "collapsed": true
   },
   "outputs": [],
   "source": [
    "dgv_1 = [-0.70710677,           0,  0.70710677]\n",
    "dgv_2 = [-0.70710677,           0, -0.70710677]\n",
    "dgv_3 = [          0, -0.70710677, -0.70710677]\n",
    "dgv_4 = [          0, -0.70710677,  0.70710677]\n",
    "dgv_5 = [ 0.70710677, -0.70710677,           0]\n",
    "dgv_6 = [-0.70710677, -0.70710677,           0]"
   ]
  },
  {
   "cell_type": "markdown",
   "metadata": {},
   "source": [
    "## Image Direction"
   ]
  },
  {
   "cell_type": "code",
   "execution_count": 24,
   "metadata": {
    "collapsed": false
   },
   "outputs": [
    {
     "name": "stdout",
     "output_type": "stream",
     "text": [
      "Image direction: \n",
      "[[  4.12181109e-01   8.52592225e-01  -3.21237032e-01]\n",
      " [ -6.14726167e-01   6.82928024e-06  -7.88740604e-01]\n",
      " [ -6.72471913e-01   5.22576786e-01   5.24113565e-01]]\n"
     ]
    }
   ],
   "source": [
    "direction = np.zeros( shape=(1,9) )\n",
    "\n",
    "direction[0,0] = row_x\n",
    "direction[0,1] = row_y\n",
    "direction[0,2] = row_z\n",
    "direction[0,3] = col_x\n",
    "direction[0,4] = col_y\n",
    "direction[0,5] = col_z\n",
    "direction[0,6] = (row_y*col_z) - (row_z*col_y) \n",
    "direction[0,7] = (row_z*col_x) - (row_x*col_z) \n",
    "direction[0,8] = (row_x*col_y) - (row_y*col_x)\n",
    "\n",
    "directionMatrixForm =  direction.reshape(3,3)\n",
    "inverseDirectionMatrix = np.linalg.inv(directionMatrixForm)\n",
    "\n",
    "print \"Image direction: \"\n",
    "print directionMatrixForm"
   ]
  },
  {
   "cell_type": "markdown",
   "metadata": {},
   "source": [
    "## Rotation"
   ]
  },
  {
   "cell_type": "markdown",
   "metadata": {},
   "source": [
    "There are two rotation methods related to the image direction in <a href\"https://github.com/InsightSoftwareConsortium/ITK\">ITK</a> (<a href=\"https://github.com/InsightSoftwareConsortium/ITK/blob/master/Modules/Core/Common/include/itkImageBase.h\">itkImageBase.h</a>)\n",
    "\n",
    "\n",
    "Method: <strong>TransformLocalVectorToPhysicalVector</strong>\n",
    "<p style=\"text-align:justify;color:#3B3B3B;\">\"Take a vector or covariant vector that has been computed in the\n",
    " coordinate system parallel to the image grid and rotate it by the\n",
    " direction cosines in order to get it in terms of the coordinate system of\n",
    " the image acquisition device.  This implementation in the Image\n",
    " multiply the array (vector or covariant vector) by the matrix of Direction\n",
    " Cosines.\"</p>\n",
    " \n",
    " <p style=\"text-align:justify;color:#3B3B3B;\">The matrix (based on the image direction) that rotates a given vector $\\vec{v}$ by a counterclockwise is:</p>"
   ]
  },
  {
   "cell_type": "markdown",
   "metadata": {},
   "source": [
    "$$R = \n",
    "  \\begin{pmatrix} 4.12181109e-01 & 8.52592225e-01 & -3.21237032e-01 \\\\ \n",
    "                 -6.14726167e-01 & 6.82928024e-06 & -7.88740604e-01 \\\\ \n",
    "                 -6.72471913e-01 & 5.22576786e-01 & 5.24113565e-01 \\end{pmatrix} $$"
   ]
  },
  {
   "cell_type": "markdown",
   "metadata": {},
   "source": [
    "<p style=\"text-align:justify;color:#3B3B3B;\">Therefore, the rotated vector is given by $R \\cdot \\vec{v}$</p>"
   ]
  },
  {
   "cell_type": "markdown",
   "metadata": {},
   "source": [
    "$$v^{'} = \n",
    "  \\begin{pmatrix} 4.12181109e-01 & 8.52592225e-01 & -3.21237032e-01 \\\\ \n",
    "                 -6.14726167e-01 & 6.82928024e-06 & -7.88740604e-01 \\\\ \n",
    "                 -6.72471913e-01 & 5.22576786e-01 & 5.24113565e-01 \\end{pmatrix} \n",
    "  \\begin{pmatrix} v_x \\\\ v_y \\\\ v_z \\end{pmatrix} $$"
   ]
  },
  {
   "cell_type": "code",
   "execution_count": 34,
   "metadata": {
    "collapsed": false
   },
   "outputs": [
    {
     "name": "stdout",
     "output_type": "stream",
     "text": [
      "Diffusion Gradient Vectors (Rotated: Local Vector To Physical Vector)\n",
      "[-0.51860493 -0.12304679  0.84611369]\n",
      "[-0.06430717  0.99240085  0.10490519]\n",
      "[-0.37572485  0.55771899 -0.74012183]\n",
      "[-0.83002261 -0.55772865  0.00108667]\n",
      "[-0.31141768 -0.43468186 -0.84502703]\n",
      "[-0.89432979  0.43467221  0.10599186]\n"
     ]
    }
   ],
   "source": [
    "print \"Diffusion Gradient Vectors (Rotated: Local Vector To Physical Vector)\"\n",
    "print directionMatrixForm.dot( dgv_1 )\n",
    "print directionMatrixForm.dot( dgv_2 )\n",
    "print directionMatrixForm.dot( dgv_3 )\n",
    "print directionMatrixForm.dot( dgv_4 )\n",
    "print directionMatrixForm.dot( dgv_5 )\n",
    "print directionMatrixForm.dot( dgv_6 )"
   ]
  },
  {
   "cell_type": "markdown",
   "metadata": {},
   "source": [
    "Method: <strong>TransformPhysicalVectorToLocalVector</strong>\n",
    "<p style=\"text-align:justify;color:#3B3B3B;\">\"Take a vector or covariant vector that has been computed in terms of the\n",
    " coordinate system of the image acquisition device, and rotate it by the\n",
    " inverse direction cosines in order to get it in the coordinate system\n",
    " parallel to the image grid. This implementation in the Image\n",
    " multiply the array (vector or covariant vector) by the inverse of Direction\n",
    " Cosines. The arguments of the method are of type FixedArray to make\n",
    " possible to use this method with both Vector and CovariantVector.\"</p>\n",
    " \n",
    "<p style=\"text-align:justify;color:#3B3B3B;\">The rotated vector is given by $R^{-1} \\cdot \\vec{v}$</p>"
   ]
  },
  {
   "cell_type": "markdown",
   "metadata": {},
   "source": [
    "$$v^{'} = \n",
    "  \\begin{pmatrix} 4.12181109e-01 & -6.14726167e-01 & -6.72471913e-01 \\\\ \n",
    "                  8.52592225e-01 &  6.82928024e-06 &  5.22576786e-01 \\\\ \n",
    "                 -3.21237032e-01 & -7.88740604e-01 &  5.24113565e-01 \\end{pmatrix} \n",
    "  \\begin{pmatrix} v_x \\\\ v_y \\\\ v_z \\end{pmatrix} $$"
   ]
  },
  {
   "cell_type": "code",
   "execution_count": 35,
   "metadata": {
    "collapsed": false
   },
   "outputs": [
    {
     "name": "stdout",
     "output_type": "stream",
     "text": [
      "Diffusion Gradient Vectors (Rotated: Physical Vector To Local Vector)\n",
      "[-0.76696549 -0.23335615  0.59775313]\n",
      "[ 0.18405339 -0.97239132 -0.14345537]\n",
      "[ 0.91018648 -0.36952241  0.18711957]\n",
      "[-0.04083241  0.36951275  0.92832807]\n",
      "[ 0.72613309  0.60286891  0.33057494]\n",
      "[ 0.14322098 -0.60287856  0.7848727 ]\n"
     ]
    }
   ],
   "source": [
    "print \"Diffusion Gradient Vectors (Rotated: Physical Vector To Local Vector)\"\n",
    "print inverseDirectionMatrix.dot( dgv_1 )\n",
    "print inverseDirectionMatrix.dot( dgv_2 )\n",
    "print inverseDirectionMatrix.dot( dgv_3 )\n",
    "print inverseDirectionMatrix.dot( dgv_4 )\n",
    "print inverseDirectionMatrix.dot( dgv_5 )\n",
    "print inverseDirectionMatrix.dot( dgv_6 )"
   ]
  }
 ],
 "metadata": {
  "kernelspec": {
   "display_name": "Python 2",
   "language": "python",
   "name": "python2"
  },
  "language_info": {
   "codemirror_mode": {
    "name": "ipython",
    "version": 2
   },
   "file_extension": ".py",
   "mimetype": "text/x-python",
   "name": "python",
   "nbconvert_exporter": "python",
   "pygments_lexer": "ipython2",
   "version": "2.7.11"
  }
 },
 "nbformat": 4,
 "nbformat_minor": 0
}
