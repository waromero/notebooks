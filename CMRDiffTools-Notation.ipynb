{
 "cells": [
  {
   "cell_type": "markdown",
   "metadata": {},
   "source": [
    "# CMRDiffTools Notation"
   ]
  },
  {
   "cell_type": "markdown",
   "metadata": {},
   "source": [
    "This notebook presents the notation used to describe the computational methods implemented within [CMRDiffTools](https://www.creatis.insa-lyon.fr/osirix-dev/CMRDiffTools.html).\n",
    "\n",
    "## Notation\n",
    "Let $S_{b}$ be the signal intensity of a Diffusion-Weighted image acquired at $b$. Let $k$ denote the number of Diffusion Gradient Vectors (DGV) and $r$ the number of the repetitions of an acquisition $S^{k}_{b}$. Therefore, a DWI set may be denoted by $S^{k}_{b, r}$. The figure below illustrates an example dataset with $S^{6}_{50, 2}$, $S^{6}_{100, 2}$ and $S^{6}_{200, 2}$.\n",
    "\n",
    "![DWI Dataset](CMRDiffTools-Notation-Dataset.png)"
   ]
  },
  {
   "cell_type": "markdown",
   "metadata": {},
   "source": [
    "## Operations\n",
    "\n",
    "The average gradient image for $k=1$ is given by:"
   ]
  },
  {
   "cell_type": "markdown",
   "metadata": {},
   "source": [
    "$$ \\overline{S^{1}_{b}} = \\frac{1}{r} \\sum\\limits_{i=1}^{r}S^{1}_{b, i} = \\frac{1}{r} \\bigg( S^{1}_{b, 1} + S^{1}_{b, 2} + S^{1}_{b, 3} + \\dots + S^{1}_{b, r} \\bigg) $$"
   ]
  },
  {
   "cell_type": "markdown",
   "metadata": {},
   "source": [
    "Therefore,"
   ]
  },
  {
   "cell_type": "markdown",
   "metadata": {},
   "source": [
    "$$ Average\\big(S^{k}_{b, r}\\big) = S^{k}_{b} = \\bigg\\{ \\overline{S^{1}_{b}} , \\overline{S^{2}_{b}} , \\overline{S^{3}_{b}} , \\dots , \\overline{S^{k}_{b}} \\bigg\\}$$"
   ]
  },
  {
   "cell_type": "markdown",
   "metadata": {},
   "source": [
    "The pixel $(x,y)$ with the maximum signal intensity for $k = 1$ is given by:"
   ]
  },
  {
   "cell_type": "markdown",
   "metadata": {},
   "source": [
    "$$ p^{1}_{b}(x,y) = max\\bigg(\\big\\{S^{1}_{b, i}(x,y): i = 1,...,r \\big\\}\\bigg) $$"
   ]
  }
 ],
 "metadata": {
  "kernelspec": {
   "display_name": "Python 2",
   "language": "python",
   "name": "python2"
  },
  "language_info": {
   "codemirror_mode": {
    "name": "ipython",
    "version": 2
   },
   "file_extension": ".py",
   "mimetype": "text/x-python",
   "name": "python",
   "nbconvert_exporter": "python",
   "pygments_lexer": "ipython2",
   "version": "2.7.13"
  }
 },
 "nbformat": 4,
 "nbformat_minor": 0
}
